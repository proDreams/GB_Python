{
  "cells": [
    {
      "cell_type": "markdown",
      "metadata": {
        "id": "view-in-github",
        "colab_type": "text"
      },
      "source": [
        "<a href=\"https://colab.research.google.com/github/proDreams/GB_Python/blob/seminar_11/Seminar_11.ipynb\" target=\"_parent\"><img src=\"https://colab.research.google.com/assets/colab-badge.svg\" alt=\"Open In Colab\"/></a>"
      ]
    },
    {
      "cell_type": "markdown",
      "source": [
        "Даны две функции: \n",
        "f(x) = x^3 - 50x и g(x) = -x^4 + 88x^2 - 241\n",
        "\n",
        "Требуется:\n",
        "- Найти координаты точек пересечения\n",
        "- Построить графики функций в одной системе координат\n",
        "- Построить график функции пересечения\n"
      ],
      "metadata": {
        "id": "CNVUB39P4tDy"
      },
      "id": "CNVUB39P4tDy"
    },
    {
      "cell_type": "code",
      "source": [],
      "metadata": {
        "id": "sZScGkgi49sM"
      },
      "id": "sZScGkgi49sM",
      "execution_count": null,
      "outputs": []
    }
  ],
  "metadata": {
    "celltoolbar": "Необработанный формат ячейки",
    "kernelspec": {
      "display_name": "Python 3 (ipykernel)",
      "language": "python",
      "name": "python3"
    },
    "language_info": {
      "codemirror_mode": {
        "name": "ipython",
        "version": 3
      },
      "file_extension": ".py",
      "mimetype": "text/x-python",
      "name": "python",
      "nbconvert_exporter": "python",
      "pygments_lexer": "ipython3",
      "version": "3.9.7"
    },
    "colab": {
      "provenance": [],
      "collapsed_sections": [
        "aa31617f"
      ],
      "toc_visible": true,
      "include_colab_link": true
    }
  },
  "nbformat": 4,
  "nbformat_minor": 5
}